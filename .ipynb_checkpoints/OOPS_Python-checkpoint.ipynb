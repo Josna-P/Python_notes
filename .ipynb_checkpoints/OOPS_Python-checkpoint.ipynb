{
 "cells": [
  {
   "cell_type": "markdown",
   "id": "64f55432-8d53-4584-b175-0ed481b15da3",
   "metadata": {
    "jp-MarkdownHeadingCollapsed": true
   },
   "source": [
    "## OOPS in Python"
   ]
  },
  {
   "cell_type": "code",
   "execution_count": 1,
   "id": "389a040e-a865-4246-8b74-cac1e545aa61",
   "metadata": {},
   "outputs": [
    {
     "name": "stdout",
     "output_type": "stream",
     "text": [
      "Red Tesla is driving.\n"
     ]
    }
   ],
   "source": [
    "#A class is a blueprint; an object is an instance of the class.\n",
    "\n",
    "class Car:\n",
    "    def __init__(self, brand, color):\n",
    "        self.brand = brand\n",
    "        self.color = color\n",
    "\n",
    "    def drive(self):\n",
    "        print(f\"{self.color} {self.brand} is driving.\")\n",
    "\n",
    "# Creating an object\n",
    "my_car = Car(\"Tesla\", \"Red\")\n",
    "my_car.drive()\n"
   ]
  },
  {
   "cell_type": "code",
   "execution_count": 3,
   "id": "09c5a78f-048f-4e4e-a0f6-c31ae07cbb4d",
   "metadata": {},
   "outputs": [
    {
     "name": "stdout",
     "output_type": "stream",
     "text": [
      "1500\n"
     ]
    }
   ],
   "source": [
    "#Encapsulation\n",
    "\n",
    "class BankAccount:\n",
    "    def __init__(self, balance):\n",
    "        self.__balance = balance  # Private variable\n",
    "\n",
    "    def deposit(self, amount):\n",
    "        self.__balance += amount\n",
    "\n",
    "    def get_balance(self):\n",
    "        return self.__balance\n",
    "\n",
    "acc = BankAccount(1000)\n",
    "acc.deposit(500)\n",
    "print(acc.get_balance())  # 1500\n"
   ]
  },
  {
   "cell_type": "code",
   "execution_count": 5,
   "id": "69955d65-c621-4930-bfae-5ca07dbc65d9",
   "metadata": {},
   "outputs": [
    {
     "name": "stdout",
     "output_type": "stream",
     "text": [
      "Dog barks\n"
     ]
    }
   ],
   "source": [
    "#Inheritance\n",
    "\n",
    "class Animal:\n",
    "    def speak(self):\n",
    "        print(\"Animal speaks\")\n",
    "\n",
    "class Dog(Animal):  # Inheriting Animal\n",
    "    def speak(self):\n",
    "        print(\"Dog barks\")\n",
    "\n",
    "d = Dog()\n",
    "d.speak()  # Dog barks\n",
    "\n"
   ]
  },
  {
   "cell_type": "code",
   "execution_count": 7,
   "id": "1858f594-38a9-4385-86e5-64af0fe7bcfe",
   "metadata": {},
   "outputs": [
    {
     "name": "stdout",
     "output_type": "stream",
     "text": [
      "Bird flies\n",
      "Airplane flies\n"
     ]
    }
   ],
   "source": [
    "#Polymorphism\n",
    "#Same method name, different behavior depending on the object.\n",
    "\n",
    "class Bird:\n",
    "    def fly(self):\n",
    "        print(\"Bird flies\")\n",
    "\n",
    "class Airplane:\n",
    "    def fly(self):\n",
    "        print(\"Airplane flies\")\n",
    "\n",
    "def let_it_fly(flyable):\n",
    "    flyable.fly()\n",
    "\n",
    "let_it_fly(Bird())       # Bird flies\n",
    "let_it_fly(Airplane())   # Airplane flies\n"
   ]
  },
  {
   "cell_type": "code",
   "execution_count": 8,
   "id": "5d89d39d-e9bc-49f6-9772-c263770bae5f",
   "metadata": {},
   "outputs": [
    {
     "name": "stdout",
     "output_type": "stream",
     "text": [
      "Car started.\n"
     ]
    }
   ],
   "source": [
    "#Abstraction (via ABCs)\n",
    "#Hiding complex logic and showing only necessary parts — done in Python using abc module.\n",
    "\n",
    "\n",
    "from abc import ABC, abstractmethod\n",
    "\n",
    "class Vehicle(ABC):\n",
    "    @abstractmethod\n",
    "    def start(self):\n",
    "        pass\n",
    "\n",
    "class Car(Vehicle):\n",
    "    def start(self):\n",
    "        print(\"Car started.\")\n",
    "\n",
    "c = Car()\n",
    "c.start()\n"
   ]
  },
  {
   "cell_type": "markdown",
   "id": "0f664792-f3ce-48bd-8c50-816e20c99bdd",
   "metadata": {},
   "source": [
    "Class & Object – Modularity\n",
    "\n",
    "Encapsulation – Data protection and integrity\n",
    "\n",
    "Inheritance – Reusability\n",
    "\n",
    "Polymorphism – Flexibility and clean code\n",
    "\n",
    "Abstraction – Simplified interfaces and separation of concerns"
   ]
  },
  {
   "cell_type": "markdown",
   "id": "8295553e-60ca-447f-bc8b-99a90352d684",
   "metadata": {
    "jp-MarkdownHeadingCollapsed": true
   },
   "source": [
    "## Classes and Objects"
   ]
  },
  {
   "cell_type": "code",
   "execution_count": null,
   "id": "516afe63-5b9d-4778-9079-645fb845eb2f",
   "metadata": {},
   "outputs": [],
   "source": [
    "Classes and Objects\n",
    "\n",
    "The constructor (__init__) initializes the object's attributes when it's created.\n",
    "\n",
    "self refers to the current instance of the class and is used to access its variables and methods.\n",
    "\n",
    "\n",
    "Instance Variables:\n",
    "Belong to the object (instance), not the class.\n",
    "\n",
    "Defined using self, e.g., self.name\n",
    "\n",
    "Instance Methods:\n",
    "Functions defined inside a class.\n",
    "\n",
    "Always take self as the first parameter.\n",
    "\n",
    "Used to access or modify instance variables.\n",
    "\n",
    "\n",
    "class Person:\n",
    "    def __init__(self, name):\n",
    "        self.name = name  # instance variable\n",
    "\n",
    "    def greet(self):      # instance method\n",
    "        print(f\"Hello, I am {self.name}\")"
   ]
  },
  {
   "cell_type": "markdown",
   "id": "2ee9a919-7ec1-45e1-ba92-e0716f8d7037",
   "metadata": {
    "jp-MarkdownHeadingCollapsed": true
   },
   "source": [
    "## Encapsulation"
   ]
  },
  {
   "cell_type": "markdown",
   "id": "afbdae69-3986-462f-8a8d-94ae9166fdf3",
   "metadata": {},
   "source": [
    "What is Encapsulation?\n",
    "Encapsulation is the binding of data (variables) and methods (functions) that operate on the data into a single unit — the class.\n",
    "\n",
    "It helps hide internal details from outside access and provides controlled interaction through methods."
   ]
  },
  {
   "cell_type": "markdown",
   "id": "609b7a47-90fa-47e7-ac52-a1200a1884ab",
   "metadata": {},
   "source": [
    "Protects internal object state by restricting direct access to attributes.\n",
    "\n",
    "Achieved using access modifiers:\n",
    "\n",
    "public (default): accessible from anywhere\n",
    "\n",
    "_protected: hint to avoid direct access (convention)\n",
    "\n",
    "__private: name mangling to prevent access from outside\n",
    "\n",
    "Use getters and setters to read/update private data safely."
   ]
  },
  {
   "cell_type": "markdown",
   "id": "971794f3-de64-42c8-962b-bd3ca4826eb0",
   "metadata": {},
   "source": [
    "Why Encapsulation Is Important\n",
    "Prevents unauthorized access to data.\n",
    "\n",
    "Enforces data validation through controlled access.\n",
    "\n",
    "Makes the class a self-contained unit, promoting modularity.\n",
    "\n",
    "Improves code maintainability and security."
   ]
  },
  {
   "cell_type": "code",
   "execution_count": 11,
   "id": "85e9b35a-baa8-4b22-839b-fae565a148cf",
   "metadata": {},
   "outputs": [
    {
     "name": "stdout",
     "output_type": "stream",
     "text": [
      "1500\n"
     ]
    }
   ],
   "source": [
    "class BankAccount:\n",
    "    def __init__(self, balance):\n",
    "        self.__balance = balance  # private variable\n",
    "\n",
    "    def deposit(self, amount):\n",
    "        if amount > 0:\n",
    "            self.__balance += amount\n",
    "\n",
    "    def get_balance(self):\n",
    "        return self.__balance\n",
    "\n",
    "acc = BankAccount(1000)\n",
    "acc.deposit(500)\n",
    "print(acc.get_balance())  # 1500\n",
    "# print(acc.__balance)    ❌ Will raise error: private variable\n"
   ]
  },
  {
   "cell_type": "markdown",
   "id": "28b09a6a-5ff0-42c4-8eea-0f6daa33fa4e",
   "metadata": {
    "jp-MarkdownHeadingCollapsed": true
   },
   "source": [
    "## Inheritance"
   ]
  },
  {
   "cell_type": "markdown",
   "id": "41880775-6acb-406b-88ef-f74533d76828",
   "metadata": {},
   "source": [
    "What is Inheritance?\n",
    "Inheritance allows a class (child/subclass) to acquire the properties and behaviors (attributes and methods) of another class (parent/superclass).\n",
    "\n",
    "Promotes code reuse, consistency, and scalability."
   ]
  },
  {
   "cell_type": "markdown",
   "id": "6be14104-5ee3-4474-94b3-df5ed05b4ab2",
   "metadata": {},
   "source": [
    "Key Points:\n",
    "The child class inherits methods and variables from the parent class.\n",
    "\n",
    "Allows for extension or modification of parent behavior.\n",
    "\n",
    "Use super() to call methods from the parent class.\n",
    "\n",
    "Supports multilevel and multiple inheritance (cautiously).\n",
    "\n",
    "Follows the \"is-a\" relationship (e.g., Dog is an Animal)."
   ]
  },
  {
   "cell_type": "markdown",
   "id": "a83bd2bc-ebbb-4c1a-acbe-5fb22ffc0d19",
   "metadata": {},
   "source": [
    "Why Inheritance Is Important\n",
    "Reduces code duplication by reusing base functionality.\n",
    "\n",
    "Makes code more organized, scalable, and maintainable.\n",
    "\n",
    "Encourages hierarchical structure in program design."
   ]
  },
  {
   "cell_type": "markdown",
   "id": "3139f340-bc94-4d5a-9d0f-82a94a588cb6",
   "metadata": {},
   "source": [
    "Types of Inheritance in Python\n",
    "Single Inheritance – one parent, one child\n",
    "\n",
    "Multiple Inheritance – child inherits from multiple parents\n",
    "\n",
    "Multilevel Inheritance – child of a child class\n",
    "\n",
    "Hierarchical Inheritance – multiple children from one parent"
   ]
  },
  {
   "cell_type": "markdown",
   "id": "968d532d-1137-492e-92fe-f94b04f0f806",
   "metadata": {},
   "source": [
    "Summary of Concepts:\n",
    "Inheritance = Reusability + Extensibility\n",
    "\n",
    "super() = used to call the parent class's constructor or method\n",
    "\n",
    "Supports method overriding for custom behavior in child classes"
   ]
  },
  {
   "cell_type": "markdown",
   "id": "adef654d-03fc-462b-a9f4-be120eb1e0ff",
   "metadata": {
    "jp-MarkdownHeadingCollapsed": true
   },
   "source": [
    "## Polymorphism"
   ]
  },
  {
   "cell_type": "markdown",
   "id": "80a5b7f1-36e6-412b-bae8-59c14f253060",
   "metadata": {},
   "source": [
    "What is Polymorphism?\n",
    "Polymorphism means \"many forms\" — the same function or method behaves differently based on the object that calls it.\n",
    "\n",
    "Enables objects of different classes to be treated through a common interface."
   ]
  },
  {
   "cell_type": "markdown",
   "id": "d84fb835-0527-445d-82f6-71b283712a8d",
   "metadata": {},
   "source": [
    "Key Points:\n",
    "Achieved via method overriding in inheritance.\n",
    "\n",
    "Also supported through duck typing in Python: \"If it behaves like a duck, it's a duck.\"\n",
    "\n",
    "Promotes flexibility and interchangeability in code.\n",
    "\n",
    "Helps in designing extensible systems that follow the Open/Closed Principle (open to extension, closed to modification)."
   ]
  },
  {
   "cell_type": "markdown",
   "id": "d864232d-de32-466e-8fc1-3d3a3f9360c1",
   "metadata": {},
   "source": [
    "Why Polymorphism Is Important\n",
    "Simplifies code: you don’t need to check object types explicitly.\n",
    "\n",
    "Allows for writing generic functions or classes that work with different types.\n",
    "\n",
    "Encourages loose coupling between components.\n",
    "\n",
    "Makes systems more scalable and maintainable."
   ]
  },
  {
   "cell_type": "markdown",
   "id": "13fc510c-83ca-4130-ae0e-a09fe57d7ece",
   "metadata": {},
   "source": [
    "Types of Polymorphism\n",
    "Compile-time Polymorphism: Not typical in Python (method overloading is not supported natively).\n",
    "\n",
    "Runtime Polymorphism: Achieved via method overriding and dynamic typing.\n",
    "\n"
   ]
  },
  {
   "cell_type": "markdown",
   "id": "c0259c9f-2f88-47e0-abfa-bdf05bdf0447",
   "metadata": {},
   "source": [
    "Summary of Concepts:\n",
    "Polymorphism = Same interface, different behavior\n",
    "\n",
    "Achieved through method overriding and duck typing\n",
    "\n",
    "Makes code generic, flexible, and easier to extend"
   ]
  },
  {
   "cell_type": "markdown",
   "id": "5b38e261-7703-4c59-a372-6638be819989",
   "metadata": {
    "jp-MarkdownHeadingCollapsed": true
   },
   "source": [
    "## Abstraction"
   ]
  },
  {
   "cell_type": "markdown",
   "id": "20f0312d-ec5c-4281-8bce-96a2706d581d",
   "metadata": {},
   "source": [
    "What is Abstraction?\n",
    "Abstraction means hiding the complex implementation details and exposing only the necessary features.\n",
    "\n",
    "Focuses on what an object does, not how it does it."
   ]
  },
  {
   "cell_type": "markdown",
   "id": "60e6abbc-7728-40d6-80cb-9aee022e4991",
   "metadata": {},
   "source": [
    "Key Points:\n",
    "Achieved using abstract classes and abstract methods (via abc module).\n",
    "\n",
    "Abstract methods must be implemented by child classes.\n",
    "\n",
    "Helps to define a common interface for different implementations.\n",
    "\n",
    "Encourages separation of concerns and clean architecture."
   ]
  },
  {
   "cell_type": "markdown",
   "id": "583c283d-205f-4b13-98ff-3daa491f7799",
   "metadata": {},
   "source": [
    "Why Abstraction Is Important\n",
    "Simplifies interaction with complex systems by exposing only essential parts.\n",
    "\n",
    "Enforces a contract for subclasses, ensuring consistent method implementation.\n",
    "\n",
    "Makes code more modular and easier to maintain.\n",
    "\n",
    "Supports flexible system design where implementations can vary without affecting users."
   ]
  },
  {
   "cell_type": "markdown",
   "id": "756fd499-c433-4b02-91e3-18f28c76d761",
   "metadata": {},
   "source": [
    "Summary of Concepts:\n",
    "Abstraction = Hide complexity, show essential features\n",
    "\n",
    "Uses abstract classes and methods (via abc module)\n",
    "\n",
    "Enforces implementation rules on subclasses\n",
    "\n",
    "Helps create flexible, maintainable code architecture"
   ]
  },
  {
   "cell_type": "markdown",
   "id": "1fabfdef-0377-414f-8295-d37651e89157",
   "metadata": {
    "jp-MarkdownHeadingCollapsed": true
   },
   "source": [
    "## Important OOP Tips & Rules to Remember"
   ]
  },
  {
   "cell_type": "markdown",
   "id": "b5bd6209-3e67-44ee-9885-a12752fb9eff",
   "metadata": {},
   "source": [
    "1. Inheritance Rules\n",
    "A subclass inherits all public and protected members from the superclass (not private).\n",
    "\n",
    "Private variables (__var) are name-mangled and not accessible directly in subclasses.\n",
    "\n",
    "You can override any parent method by defining a method with the same name in the child class.\n",
    "\n",
    "Use super() to call the parent class constructor or methods, ensuring proper initialization.\n",
    "\n",
    "Python supports multiple inheritance, but be cautious of the Method Resolution Order (MRO) to avoid conflicts.\n",
    "\n",
    "The MRO can be checked using ClassName.mro().\n",
    "\n",
    "2. super() Keyword\n",
    "super() allows access to methods in a parent class from a subclass.\n",
    "\n",
    "It’s commonly used to call the parent class’s __init__() to initialize inherited attributes.\n",
    "\n",
    "Always prefer super() over calling the parent class directly (ParentClass.method(self)) for cleaner, maintainable code.\n",
    "\n",
    "Works with multiple inheritance by following MRO.\n",
    "\n",
    "3. Encapsulation & Access Modifiers\n",
    "Python uses convention, not enforcement:\n",
    "\n",
    "_single_underscore = protected (by convention, avoid accessing outside)\n",
    "\n",
    "__double_underscore = private (name mangling applies)\n",
    "\n",
    "Name mangling changes __var to _ClassName__var.\n",
    "\n",
    "Use getters and setters to access private data properly.\n",
    "\n",
    "4. Polymorphism\n",
    "Python’s duck typing means you don’t need formal interfaces.\n",
    "\n",
    "Just ensure objects have the required methods (same name/signature).\n",
    "\n",
    "Avoid excessive type checking (isinstance) — rely on polymorphism instead.\n",
    "\n",
    "5. Abstract Classes and Methods\n",
    "Use abc.ABC as a base class to create abstract classes.\n",
    "\n",
    "All abstract methods must be implemented by subclasses.\n",
    "\n",
    "Abstract classes cannot be instantiated directly.\n",
    "\n",
    "6. Common Pitfalls\n",
    "Forgetting to call super().__init__() in subclasses that override __init__() can lead to uninitialized parent attributes.\n",
    "\n",
    "Mutable default arguments in methods can cause unexpected shared state.\n",
    "\n",
    "Overriding built-in methods without preserving expected behavior can cause bugs.\n",
    "\n",
    "Overusing multiple inheritance can make code complex and hard to debug.\n",
    "\n",
    "7. Other Useful Notes\n",
    "Instance variables are typically defined in __init__().\n",
    "\n",
    "Class variables (shared by all instances) should be defined at the class level.\n",
    "\n",
    "Method overloading (same method name, different args) is not natively supported — use default arguments or *args, **kwargs."
   ]
  },
  {
   "cell_type": "code",
   "execution_count": null,
   "id": "21b4fdb4-ac47-48fd-9bce-d9c987b1b531",
   "metadata": {},
   "outputs": [],
   "source": []
  }
 ],
 "metadata": {
  "kernelspec": {
   "display_name": "Python 3 (ipykernel)",
   "language": "python",
   "name": "python3"
  },
  "language_info": {
   "codemirror_mode": {
    "name": "ipython",
    "version": 3
   },
   "file_extension": ".py",
   "mimetype": "text/x-python",
   "name": "python",
   "nbconvert_exporter": "python",
   "pygments_lexer": "ipython3",
   "version": "3.12.2"
  }
 },
 "nbformat": 4,
 "nbformat_minor": 5
}
